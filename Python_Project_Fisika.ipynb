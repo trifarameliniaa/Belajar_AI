{
  "nbformat": 4,
  "nbformat_minor": 0,
  "metadata": {
    "colab": {
      "name": "Copy of Python_Project Fisika",
      "provenance": [],
      "include_colab_link": true
    },
    "kernelspec": {
      "name": "python3",
      "display_name": "Python 3"
    },
    "language_info": {
      "name": "python"
    }
  },
  "cells": [
    {
      "cell_type": "markdown",
      "metadata": {
        "id": "view-in-github",
        "colab_type": "text"
      },
      "source": [
        "<a href=\"https://colab.research.google.com/github/trifarameliniaa/Belajar_AI/blob/main/Python_Project_Fisika.ipynb\" target=\"_parent\"><img src=\"https://colab.research.google.com/assets/colab-badge.svg\" alt=\"Open In Colab\"/></a>"
      ]
    },
    {
      "cell_type": "markdown",
      "metadata": {
        "id": "QIoiaRAPvobN"
      },
      "source": [
        "##Project Fisika"
      ]
    },
    {
      "cell_type": "markdown",
      "metadata": {
        "id": "AZ80zUizwKJM"
      },
      "source": [
        "##Membuat Program Sederhana untuk Menyelesaikan Persoalan fisis (fisika)"
      ]
    },
    {
      "cell_type": "markdown",
      "metadata": {
        "id": "NfkB-8pbtz6B"
      },
      "source": [
        "### Gerak Lurus Berubah Beraturan"
      ]
    },
    {
      "cell_type": "code",
      "metadata": {
        "id": "SOWzh8aHtqQ0",
        "colab": {
          "base_uri": "https://localhost:8080/"
        },
        "outputId": "a62f9c63-3aa1-4ec8-aab4-cd48da2b1de0"
      },
      "source": [
        "kecepatan_awal = 5 # m/s\n",
        "waktu = 2 # s\n",
        "percepatan = 10 # m/s2\n",
        "s = kecepatan_awal * waktu + 0.5 * percepatan*waktu**2\n",
        "print(s, 'm')"
      ],
      "execution_count": null,
      "outputs": [
        {
          "output_type": "stream",
          "name": "stdout",
          "text": [
            "30.0 m\n"
          ]
        }
      ]
    },
    {
      "cell_type": "markdown",
      "metadata": {
        "id": "fdKVTuGzt8X9"
      },
      "source": [
        "### Gerak Lurus Berubah Beraturan"
      ]
    },
    {
      "cell_type": "code",
      "metadata": {
        "id": "IzNo5k5vtuuB",
        "colab": {
          "base_uri": "https://localhost:8080/"
        },
        "outputId": "2d595dbc-c842-45f3-dee9-9b88110f3c0f"
      },
      "source": [
        "kecepatan_awal = int(input('Masukkan kecepatan awal (dalam m/s) :')) \n",
        "waktu = int(input('Masukkan waktu tempuh (dalam detik) :'))\n",
        "percepatan = int(input('Masukkan percepatannya (dalam m/s2) :'))\n",
        "s = kecepatan_awal * waktu + 0.5 * percepatan*waktu**2\n",
        "print('Jarak yang ditempuh :',s, 'm')"
      ],
      "execution_count": null,
      "outputs": [
        {
          "output_type": "stream",
          "name": "stdout",
          "text": [
            "Masukkan kecepatan awal (dalam m/s) :5\n",
            "Masukkan waktu tempuh (dalam detik) :2\n",
            "Masukkan percepatannya (dalam m/s2) :2\n",
            "Jarak yang ditempuh : 14.0 m\n"
          ]
        }
      ]
    },
    {
      "cell_type": "code",
      "metadata": {
        "id": "GG646nM_uEGj"
      },
      "source": [
        "# Praktek Membuat Program Sederhana\n",
        "### Gerak Lurus Berubah Beraturan"
      ],
      "execution_count": null,
      "outputs": []
    },
    {
      "cell_type": "code",
      "metadata": {
        "id": "2JNxpELyuMWR"
      },
      "source": [
        "def Jarak(kecepatan_awal, waktu_akhir, percepatan):\n",
        "    # Perhitungan jarak yang ditempuh setiap detiknya\n",
        "    f = open(\"data.txt\",'w')\n",
        "    waktu = 0\n",
        "    while waktu <=waktu_akhir:\n",
        "        s = kecepatan_awal * waktu + 0.5 * percepatan*waktu**2\n",
        "        #print(waktu,'{:0.2f}'.format(s))\n",
        "        f.write('{:0.0f} {:0.2f}\\n'.format(waktu, s))\n",
        "        waktu +=1\n",
        "    f.close()"
      ],
      "execution_count": null,
      "outputs": []
    },
    {
      "cell_type": "code",
      "metadata": {
        "id": "yZud_uKFuQNk",
        "colab": {
          "base_uri": "https://localhost:8080/"
        },
        "outputId": "12d7103b-902a-4663-cb67-dd11a04d8d5e"
      },
      "source": [
        "print(Jarak(1,20,10))"
      ],
      "execution_count": null,
      "outputs": [
        {
          "output_type": "stream",
          "name": "stdout",
          "text": [
            "None\n"
          ]
        }
      ]
    },
    {
      "cell_type": "code",
      "metadata": {
        "id": "I-uTitWVuTI5",
        "colab": {
          "base_uri": "https://localhost:8080/",
          "height": 295
        },
        "outputId": "e76cd8da-f6f0-478a-ce37-d8cc56b31e23"
      },
      "source": [
        "from pylab import plot, show\n",
        "from numpy import loadtxt\n",
        "import matplotlib.pyplot as plt\n",
        "%matplotlib inline\n",
        "data = loadtxt('data.txt')\n",
        "x = data[:,0]\n",
        "y = data[:,1]\n",
        "plt.xlabel('Waktu dalam detik')\n",
        "plt.ylabel('Jarak')\n",
        "plt.title('Grafik Jarak terhadap Waktu GLBB')\n",
        "plot(x,y,'-b')\n",
        "show()"
      ],
      "execution_count": null,
      "outputs": [
        {
          "output_type": "display_data",
          "data": {
            "image/png": "[encoded data removed]",
            "text/plain": [
              "<Figure size 432x288 with 1 Axes>"
            ]
          },
          "metadata": {
            "needs_background": "light"
          }
        }
      ]
    },
    {
      "cell_type": "markdown",
      "metadata": {
        "id": "ObWwJfetv7jq"
      },
      "source": [
        "### Gerak Lurus Berubah Beraturan (Numerik)"
      ]
    },
    {
      "cell_type": "code",
      "metadata": {
        "id": "kIsoKgfluihe"
      },
      "source": [
        "import numpy as np\n",
        "def forward_euler():\n",
        "    h = 0.1 # s\n",
        "    g = 9.81 # m / s2\n",
        "    num_steps = 50\n",
        "    t = np.zeros(num_steps + 1)\n",
        "    x = np.zeros(num_steps + 1)\n",
        "    v = np.zeros(num_steps + 1)\n",
        "    for step in range(num_steps):\n",
        "        t[step + 1] = t[step]+h \n",
        "        x[step + 1] = x[step]+h*v[step] \n",
        "        v[step + 1] = v[step]+h*g  \n",
        "    return t, x, v"
      ],
      "execution_count": null,
      "outputs": []
    },
    {
      "cell_type": "code",
      "metadata": {
        "id": "_ahIqzMTulNm",
        "colab": {
          "base_uri": "https://localhost:8080/",
          "height": 279
        },
        "outputId": "f3c805ca-7219-4644-e28a-28ba3c383271"
      },
      "source": [
        "import matplotlib.pyplot as plt\n",
        "%matplotlib inline\n",
        "t, x, v = forward_euler()\n",
        "ax1 =plt.subplot(211)\n",
        "plt.plot(t, x, '+b')\n",
        "ax2 = plt.subplot(212)\n",
        "plt.plot(t, v,'--r')\n",
        "ax1.set_ylabel('Jarak dalam m')\n",
        "ax2.set_ylabel('Kecepatan dalam m/s')\n",
        "ax2.set_xlabel('Waktu dalam s')\n",
        "plt.show()"
      ],
      "execution_count": null,
      "outputs": [
        {
          "output_type": "display_data",
          "data": {
            "image/png": "[encoded data removed]",
            "text/plain": [
              "<Figure size 432x288 with 2 Axes>"
            ]
          },
          "metadata": {
            "needs_background": "light"
          }
        }
      ]
    }
  ]
}