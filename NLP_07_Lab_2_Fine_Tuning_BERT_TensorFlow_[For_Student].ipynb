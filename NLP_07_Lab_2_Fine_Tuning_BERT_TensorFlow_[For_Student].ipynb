{
  "nbformat": 4,
  "nbformat_minor": 0,
  "metadata": {
    "colab": {
      "name": "NLP_07 Lab 2 - Fine Tuning BERT TensorFlow [For Student].ipynb",
      "provenance": [],
      "collapsed_sections": [],
      "toc_visible": true,
      "include_colab_link": true
    },
    "kernelspec": {
      "name": "python3",
      "display_name": "Python 3"
    },
    "language_info": {
      "name": "python"
    },
    "accelerator": "GPU"
  },
  "cells": [
    {
      "cell_type": "markdown",
      "metadata": {
        "id": "view-in-github",
        "colab_type": "text"
      },
      "source": [
        "<a href=\"https://colab.research.google.com/github/trifarameliniaa/Belajar_AI/blob/NLP/NLP_07_Lab_2_Fine_Tuning_BERT_TensorFlow_%5BFor_Student%5D.ipynb\" target=\"_parent\"><img src=\"https://colab.research.google.com/assets/colab-badge.svg\" alt=\"Open In Colab\"/></a>"
      ]
    },
    {
      "cell_type": "markdown",
      "source": [
        "# NLP_07 LAB_2 - BERT Fine Tuning (TensorFlow)\n",
        "Created by NLP SQUAD Orbit Future Academy<br>\n",
        "Rabu, 13 April 2022\n",
        "\n",
        "Setelah mempelejari teori bagaimana melakukan fine-tuning menggunakan BERT, selanjutnya kita belajar bagaimana mengimpelementasikannya pada kasus klasifikasi SMS spam. Skema yang akan kita lakukan akan mengikuti bagan berikut:\n",
        "\n",
        "![image.png](data:image/png;base64,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)\n",
        "\n",
        "**Catatan**: Tokenizer dan model harus dari pre-trained model yang sama.\n",
        "<hr>\n",
        "\n",
        "Kita akan menggunakan pre-trained model bahasa Indonesia yang disediakan oleh B. Wilie et al. yaitu IndoBERT (2020).\n",
        "\n",
        "*B. Wilie et al., “IndoNLU: Benchmark and Resources for Evaluating Indonesian Natural Language Understanding,” 2020, doi: [10.48550/arXiv.2009.05387](https://arxiv.org/abs/2009.05387)).*\n",
        "\n",
        "https://huggingface.co/indobenchmark/indobert-base-p2\n"
      ],
      "metadata": {
        "id": "Pu3rvTl2FUXv"
      }
    },
    {
      "cell_type": "markdown",
      "source": [
        "# 01 Install & Import Library"
      ],
      "metadata": {
        "id": "PQQkKO7Ap4S9"
      }
    },
    {
      "cell_type": "code",
      "source": [
        "import random\n",
        "import numpy as np \n",
        "import pandas as pd \n",
        "\n",
        "import matplotlib.pyplot as plt\n",
        "import seaborn as sns\n",
        "\n",
        "%matplotlib inline"
      ],
      "metadata": {
        "id": "BDKcO6PSqdb4"
      },
      "execution_count": null,
      "outputs": []
    },
    {
      "cell_type": "code",
      "execution_count": null,
      "metadata": {
        "id": "uhTlxzrLUSIH"
      },
      "outputs": [],
      "source": [
        "%tensorflow_version 2.x\n",
        "\n",
        "# Gunakan tensorflow versi 2\n",
        "import tensorflow as tf\n",
        "print(tf.__version__)"
      ]
    },
    {
      "cell_type": "code",
      "source": [
        "# Instal libray transformer https://huggingface.co/\n",
        "!pip -q install transformers"
      ],
      "metadata": {
        "id": "aQqku2W8UhAw"
      },
      "execution_count": null,
      "outputs": []
    },
    {
      "cell_type": "code",
      "source": [
        "import transformers\n",
        "print(transformers.__version__)"
      ],
      "metadata": {
        "id": "_OKTkMRTiejJ"
      },
      "execution_count": null,
      "outputs": []
    },
    {
      "cell_type": "markdown",
      "source": [
        "# 02 Load Data"
      ],
      "metadata": {
        "id": "re9jXnVgiw2w"
      }
    },
    {
      "cell_type": "code",
      "source": [
        "!wget https://raw.githubusercontent.com/ksnugroho/klasifikasi-spam-sms/master/data/dataset_sms_spam_v1.csv"
      ],
      "metadata": {
        "id": "5DxwkbYBVvss"
      },
      "execution_count": null,
      "outputs": []
    },
    {
      "cell_type": "code",
      "source": [
        "data = pd.read_csv('dataset_sms_spam_v1.csv')\n",
        "data.head()"
      ],
      "metadata": {
        "id": "5s4eoZaoW_EB"
      },
      "execution_count": null,
      "outputs": []
    },
    {
      "cell_type": "code",
      "source": [
        "# Copy data\n",
        "raw_data = data.copy()"
      ],
      "metadata": {
        "id": "hwtpbqPHjDTb"
      },
      "execution_count": null,
      "outputs": []
    },
    {
      "cell_type": "markdown",
      "source": [
        "# 03 Text Preprocessing"
      ],
      "metadata": {
        "id": "2aJj8Y0di5ai"
      }
    },
    {
      "cell_type": "code",
      "source": [
        "import re\n",
        "\n",
        "def text_preprocessing(text):\n",
        "  text = text.lower()                               # Mengubah teks menjadi lower case\n",
        "  text = re.sub(r'https?://\\S+|www\\.\\S+', '', text) # Menghapus URL\n",
        "  text = re.sub(r'[-+]?[0-9]+', '', text)           # Menghapus angka\n",
        "  text = re.sub(r'[^\\w\\s]','', text)                # Menghapus karakter tanda baca\n",
        "  text = text.strip()                               # Menghapus whitespaces\n",
        "  return text"
      ],
      "metadata": {
        "id": "H1igQFEVi7vt"
      },
      "execution_count": null,
      "outputs": []
    },
    {
      "cell_type": "code",
      "source": [
        "%time data['teks'] = data['teks'].apply(text_preprocessing)"
      ],
      "metadata": {
        "id": "5IqNzZk1i9ss"
      },
      "execution_count": null,
      "outputs": []
    },
    {
      "cell_type": "code",
      "source": [
        "data.head()"
      ],
      "metadata": {
        "id": "V2gs_W5VjPT8"
      },
      "execution_count": null,
      "outputs": []
    },
    {
      "cell_type": "markdown",
      "source": [
        "# 04 Train & Test Data Splitting"
      ],
      "metadata": {
        "id": "psF33fcAmnsc"
      }
    },
    {
      "cell_type": "code",
      "source": [
        "from sklearn.model_selection import train_test_split\n",
        "\n",
        "df_train, df_test = train_test_split(data, test_size=0.2)\n",
        "df_val, df_test = train_test_split(df_test, test_size=0.5)\n",
        "\n",
        "df_train.shape, df_test.shape, df_val.shape"
      ],
      "metadata": {
        "id": "JfQEkcUeZA8h"
      },
      "execution_count": null,
      "outputs": []
    },
    {
      "cell_type": "markdown",
      "source": [
        "# 05 Load Tokenizer"
      ],
      "metadata": {
        "id": "ZOj1hd0jjT1k"
      }
    },
    {
      "cell_type": "code",
      "source": [
        "# Tentukan pre-trained model yang akan digunakan untuk fine-tuning\n",
        "# Daftar model dapat ditemukan pada https://huggingface.co\n",
        "\n",
        "PRE_TRAINED_MODEL = 'indobenchmark/indobert-base-p2'  # https://huggingface.co/indobenchmark/indobert-base-p2"
      ],
      "metadata": {
        "id": "rBTq-bQZiuUt"
      },
      "execution_count": null,
      "outputs": []
    },
    {
      "cell_type": "code",
      "source": [
        "from transformers import BertTokenizer\n",
        "\n",
        "bert_tokenizer = BertTokenizer.from_pretrained(PRE_TRAINED_MODEL)  # Load tokenizer dari pre-trained model"
      ],
      "metadata": {
        "id": "2uoAJxLBUknb"
      },
      "execution_count": null,
      "outputs": []
    },
    {
      "cell_type": "code",
      "source": [
        "# Lihat vocabulary dari pre-trained model yang telah di load sebelumnya\n",
        "vocabulary = bert_tokenizer.get_vocab()\n",
        "\n",
        "print('Panjang vocabulary:', len(vocabulary))\n",
        "print(vocabulary)"
      ],
      "metadata": {
        "id": "EZ3C3RnJdZ1O"
      },
      "execution_count": null,
      "outputs": []
    },
    {
      "cell_type": "code",
      "source": [
        "# Contoh Tokenisasi\n",
        "\n",
        "id_data = 5 # Mengambil data indeks ke-5 pada dataframe\n",
        "\n",
        "print('Kalimat:', raw_data.teks[id_data])\n",
        "print('BERT Tokenizer:', bert_tokenizer.tokenize(data.teks[id_data]))"
      ],
      "metadata": {
        "id": "ZCoyyqiIj3NK"
      },
      "execution_count": null,
      "outputs": []
    },
    {
      "cell_type": "markdown",
      "source": [
        "# 06 Input Formating\n",
        "Teks harus dipecah menjadi token sebelum dimasukkan ke BERT, kemudian token tersebut harus dipetakan ke indeks pada kosakata tokenizer yang telah di load sebelumnya. Tokenisasi harus dilakukan oleh tokenizer yang disertakan dengan BERT."
      ],
      "metadata": {
        "id": "aseQxCscj0_O"
      }
    },
    {
      "cell_type": "markdown",
      "source": [
        "## Contoh Input Formatting"
      ],
      "metadata": {
        "id": "3ZclpwEkpVlA"
      }
    },
    {
      "cell_type": "code",
      "source": [
        "# Contoh input formatting untuk BERT. Input formating dapat menggunakan fungsi `encode_plus`\n",
        "\n",
        "bert_input = bert_tokenizer.encode_plus(\n",
        "    data.teks[id_data],             # Sample kalimat                \n",
        "    add_special_tokens = True,      # Tambahkan token [CLS] pada awal kalimat dan token [SEP] pada akhir kalimat\n",
        "    padding = 'max_length',         # Tambahkan padding ke max_length menggunakan token [PAD] jika kalimat kurang dari max_length\n",
        "    truncation = 'longest_first',   # Truncate jika kalimat lebih dari max_length\n",
        "    max_length = 50,                # Tentukan max_length dari seluruh kalimat\n",
        "    return_attention_mask = True,   # Mengembalikan nilai attention mask\n",
        "    return_token_type_ids =True     # Mengembalikan nilai token type id (segment embedding)\n",
        "    )\n",
        "\n",
        "# Fungsi `encode_plus` mengembalikan 3 nilai: input_ids, token_type_ids, attention_mask\n",
        "bert_input.keys()"
      ],
      "metadata": {
        "id": "THVf5H3jXGrK"
      },
      "execution_count": null,
      "outputs": []
    },
    {
      "cell_type": "code",
      "source": [
        "print('Kalimat\\t\\t:', raw_data.teks[id_data])                                           # Data asli\n",
        "print('Tokenizer\\t:', bert_tokenizer.convert_ids_to_tokens(bert_input['input_ids']))    # Hasil input formatting + tokenizer\n",
        "print('Input IDs\\t:', bert_input['input_ids'])                                          # Input IDs : indeks token pada vocabulary tokenizer\n",
        "print('Token Type IDs\\t:', bert_input['token_type_ids'])                                # Token type IDs : menunjukkan urutan kalimat pada sequence (segment embedding)\n",
        "print('Attention Mask\\t:', bert_input['attention_mask'])                                # Attention mask : mengembalikan nilai [0,1]. 1 artinya token yang di masking, 0 token yang tidak di masking (diabaikan)"
      ],
      "metadata": {
        "id": "6FBcCbf4bWfZ"
      },
      "execution_count": null,
      "outputs": []
    },
    {
      "cell_type": "markdown",
      "source": [
        "## Memilih Panjang Sequence (max_length)"
      ],
      "metadata": {
        "id": "J8pkHvEnqGDf"
      }
    },
    {
      "cell_type": "code",
      "source": [
        "'''\n",
        "Ada banyak cara untuk menentukan max_length\n",
        "Intuisinya adalah kita tidak ingin memotong kalimat, atau terlalu banyak menambahkan padding (komputasi lebih lama)\n",
        "Contoh ini, max_lenght ditentukan dari distribusi token pada dataset \n",
        "'''\n",
        "token_lens = []\n",
        "\n",
        "for txt in data.teks:\n",
        "  tokens = bert_tokenizer.encode(txt)\n",
        "  token_lens.append(len(tokens))\n",
        "\n",
        "sns.histplot(token_lens, kde=True, stat='density', linewidth=0)\n",
        "plt.xlim([0, 100]);\n",
        "plt.xlabel('Token count');"
      ],
      "metadata": {
        "id": "KaIcA7iXqNQb"
      },
      "execution_count": null,
      "outputs": []
    },
    {
      "cell_type": "code",
      "source": [
        "# Dapat dilihat dari grafik diatas, sebagian besar kalimat tampaknya berisi kurang dari 80 token\n",
        "# Maka, tentukan max_length adalah 80\n",
        "\n",
        "MAX_LEN = 80"
      ],
      "metadata": {
        "id": "qk5UsSsarSEX"
      },
      "execution_count": null,
      "outputs": []
    },
    {
      "cell_type": "markdown",
      "source": [
        "## Input Formatting pada Data Latih & Uji"
      ],
      "metadata": {
        "id": "CfBKOvhvr4BZ"
      }
    },
    {
      "cell_type": "code",
      "source": [
        "# Buat fungsi untuk menggabungkan langkah tokenisasi, menambahkan special tokens untuk keseluruhan data sebagai input formatting ke model BERT\n",
        "def convert_example_to_feature(sentence):  \n",
        "  return bert_tokenizer.encode_plus(\n",
        "      sentence, \n",
        "      add_special_tokens = True, \n",
        "      padding = 'max_length',\n",
        "      truncation = 'longest_first',\n",
        "      max_length = MAX_LEN, \n",
        "      return_attention_mask = True, \n",
        "      return_token_type_ids=True\n",
        "    )"
      ],
      "metadata": {
        "id": "wJvDfTZTeGMt"
      },
      "execution_count": null,
      "outputs": []
    },
    {
      "cell_type": "code",
      "source": [
        "# Buat fungsi untuk memetakan input hasil input formatting agar sesuai dengan model BERT\n",
        "def map_example_to_dict(input_ids, attention_masks, token_type_ids, label):\n",
        "  return {\n",
        "      \"input_ids\": input_ids,               # Sebagai token embedding\n",
        "      \"token_type_ids\": token_type_ids,     # Sebagai segment embedding\n",
        "      \"attention_mask\": attention_masks,    # Sebagai filter informasi mana yang kalkulasi oleh model\n",
        "  }, label"
      ],
      "metadata": {
        "id": "joVYcmvja8oY"
      },
      "execution_count": null,
      "outputs": []
    },
    {
      "cell_type": "code",
      "source": [
        "# Buat fungsi untuk iterasi pada setiap kalimat pada keseluruhan data\n",
        "def encode(data):\n",
        "  input_ids_list = []\n",
        "  token_type_ids_list = []\n",
        "  attention_mask_list = []\n",
        "  label_list = []\n",
        "    \n",
        "  for sentence, label in data.to_numpy():\n",
        "\n",
        "    bert_input = convert_example_to_feature(sentence)\n",
        "  \n",
        "    input_ids_list.append(bert_input['input_ids'])\n",
        "    token_type_ids_list.append(bert_input['token_type_ids'])\n",
        "    attention_mask_list.append(bert_input['attention_mask'])\n",
        "    label_list.append([label])\n",
        "\n",
        "  return tf.data.Dataset.from_tensor_slices((input_ids_list, attention_mask_list, token_type_ids_list, label_list)).map(map_example_to_dict)"
      ],
      "metadata": {
        "id": "QdbE4aFDcn0Q"
      },
      "execution_count": null,
      "outputs": []
    },
    {
      "cell_type": "code",
      "source": [
        "# Tentukan nilai hyperparamter untuk fine-tuning\n",
        "EPOCHS = 5\n",
        "BATCH_SIZE = 32\n",
        "LEARNING_RATE = 5e-5"
      ],
      "metadata": {
        "id": "_ryrryxvemBm"
      },
      "execution_count": null,
      "outputs": []
    },
    {
      "cell_type": "code",
      "source": [
        "# Lakukan input formatting menggunakan fungsi sebelumnya pada data keseluruhan data\n",
        "train_encoded = encode(df_train).batch(BATCH_SIZE)\n",
        "test_encoded = encode(df_test).batch(BATCH_SIZE)\n",
        "val_encoded = encode(df_val).batch(BATCH_SIZE)"
      ],
      "metadata": {
        "id": "0nEGYlCifQ3v"
      },
      "execution_count": null,
      "outputs": []
    },
    {
      "cell_type": "markdown",
      "source": [
        "# 07 Load Pre-Trained Model"
      ],
      "metadata": {
        "id": "J_5MiKOnrmC8"
      }
    },
    {
      "cell_type": "code",
      "source": [
        "'''\n",
        "BERT untuk tugas klasifikasi sequence (teks) dengan menambahkan linear layer di atas pooled output untuk pengklasifikasi\n",
        "https://huggingface.co/docs/transformers/model_doc/bert#transformers.TFBertForSequenceClassification\n",
        "'''\n",
        "\n",
        "from transformers import TFBertForSequenceClassification\n",
        "\n",
        "# Load model\n",
        "bert_model = TFBertForSequenceClassification.from_pretrained(PRE_TRAINED_MODEL, num_labels=3)"
      ],
      "metadata": {
        "id": "-oArWcBcgiUb"
      },
      "execution_count": null,
      "outputs": []
    },
    {
      "cell_type": "code",
      "source": [
        "# Tentukan optimizer dengan learning rate tertentu\n",
        "# Paper aslinya menggunakan Adam Optimizer\n",
        "optimizer = tf.keras.optimizers.Adam(learning_rate=LEARNING_RATE)\n",
        "\n",
        "# Karena tidak menggunakan one-hot vectors, sehingga loss function dapat menggunakan sparse categorical cross entropy\n",
        "loss = tf.keras.losses.SparseCategoricalCrossentropy(from_logits=True)\n",
        "metric = tf.keras.metrics.SparseCategoricalAccuracy('accuracy')\n",
        "\n",
        "# Compile model\n",
        "bert_model.compile(optimizer=optimizer, loss=loss, metrics=[metric])"
      ],
      "metadata": {
        "id": "fDP4CN0igl1w"
      },
      "execution_count": null,
      "outputs": []
    },
    {
      "cell_type": "markdown",
      "source": [
        "# 08 Fine Tuning"
      ],
      "metadata": {
        "id": "nulPG41Ut5_f"
      }
    },
    {
      "cell_type": "code",
      "source": [
        "%%time\n",
        "bert_history = bert_model.fit(train_encoded, epochs=EPOCHS, batch_size=BATCH_SIZE, validation_data=val_encoded)"
      ],
      "metadata": {
        "id": "ODoeV5_qg_Do"
      },
      "execution_count": null,
      "outputs": []
    },
    {
      "cell_type": "code",
      "source": [
        "# Buat fungsi untuk plotting hasil training\n",
        "def plot_graphs(history, string):\n",
        "  plt.plot(history.history[string])\n",
        "  plt.plot(history.history['val_'+string])\n",
        "  plt.xlabel('Epochs')\n",
        "  plt.ylabel(string)\n",
        "  plt.legend([string, 'val_'+string])\n",
        "  plt.show()"
      ],
      "metadata": {
        "id": "X-pYcS72u1YC"
      },
      "execution_count": null,
      "outputs": []
    },
    {
      "cell_type": "code",
      "source": [
        "plot_graphs(bert_history, 'accuracy')\n",
        "plot_graphs(bert_history, 'loss')"
      ],
      "metadata": {
        "id": "xc2F26x6vdV5"
      },
      "execution_count": null,
      "outputs": []
    },
    {
      "cell_type": "code",
      "source": [
        "print('\\nEpoch No.  Train Accuracy  Train Loss      Val Accuracy    Val Loss')\n",
        "for i in range(EPOCHS):\n",
        "  print('{:8d} {:10f} \\t {:10f} \\t {:10f} \\t {:10f}'.format(i + 1, bert_history.history['accuracy'][i], bert_history.history['loss'][i], bert_history.history['val_accuracy'][i], bert_history.history['val_loss'][i]))"
      ],
      "metadata": {
        "id": "k6iVkDDBwQBA"
      },
      "execution_count": null,
      "outputs": []
    },
    {
      "cell_type": "code",
      "source": [
        "bert_model.save_weights('bert-model.h5')"
      ],
      "metadata": {
        "id": "I8i4VohR0HdZ"
      },
      "execution_count": null,
      "outputs": []
    },
    {
      "cell_type": "markdown",
      "source": [
        "# 09 Evaluate"
      ],
      "metadata": {
        "id": "WnI-ECZzvmtS"
      }
    },
    {
      "cell_type": "code",
      "source": [
        "score = bert_model.evaluate(test_encoded)\n",
        "\n",
        "print(\"Test Accuracy:\", score[1])"
      ],
      "metadata": {
        "id": "uRSNaFcMxRhP"
      },
      "execution_count": null,
      "outputs": []
    },
    {
      "cell_type": "markdown",
      "source": [
        "# 10 Predict"
      ],
      "metadata": {
        "id": "pqeKHfsC2S-R"
      }
    },
    {
      "cell_type": "code",
      "source": [
        "# Load hasil fine-tuning\n",
        "bert_load_model = TFBertForSequenceClassification.from_pretrained(PRE_TRAINED_MODEL, num_labels=3)\n",
        "bert_load_model.load_weights('bert-model.h5')"
      ],
      "metadata": {
        "id": "rReD4Tgaz5PD"
      },
      "execution_count": null,
      "outputs": []
    },
    {
      "cell_type": "code",
      "source": [
        "# Sample text\n",
        "input_text = 'Special promo Ramadhan, Idul Fitri, dan Arus Balik!'\n",
        "\n",
        "# Encode input text\n",
        "input_text_tokenized = bert_tokenizer.encode(input_text,\n",
        "                                             truncation=True,\n",
        "                                             padding='max_length',\n",
        "                                             return_tensors='tf')"
      ],
      "metadata": {
        "id": "bjX8dShjwqkr"
      },
      "execution_count": null,
      "outputs": []
    },
    {
      "cell_type": "code",
      "source": [
        "bert_predict = bert_load_model(input_text_tokenized)          # Lakukan prediksi\n",
        "bert_output = tf.nn.softmax(bert_predict[0], axis=-1)         # Softmax function untuk mendapatkan hasil klasifikasi"
      ],
      "metadata": {
        "id": "dVyLBDkew122"
      },
      "execution_count": null,
      "outputs": []
    },
    {
      "cell_type": "code",
      "source": [
        "sms_labels = ['Normal','Fraud','Promo']\n",
        "\n",
        "label = tf.argmax(bert_output, axis=1)\n",
        "label = label.numpy()"
      ],
      "metadata": {
        "id": "jFNaRj-wxB83"
      },
      "execution_count": null,
      "outputs": []
    },
    {
      "cell_type": "code",
      "source": [
        "print(input_text, ':', sms_labels[label[0]])"
      ],
      "metadata": {
        "id": "PEwClRcvzTSr"
      },
      "execution_count": null,
      "outputs": []
    },
    {
      "cell_type": "markdown",
      "source": [
        "# 11 Deployment Using Gradio"
      ],
      "metadata": {
        "id": "0bhrd_Dq27U7"
      }
    },
    {
      "cell_type": "code",
      "source": [
        "'''\n",
        "Gradio is the fastest way to demo your machine learning model with a friendly web interface so that anyone can use it, anywhere!\n",
        "https://gradio.app/\n",
        "'''\n",
        "\n",
        "!pip -q install gradio"
      ],
      "metadata": {
        "id": "9Fmbdb_p2-E3"
      },
      "execution_count": null,
      "outputs": []
    },
    {
      "cell_type": "code",
      "source": [
        "import gradio as gr\n",
        "\n",
        "def spam_prediction(sms):\n",
        "  input_text_tokenized = bert_tokenizer.encode(sms,\n",
        "                                             truncation=True,\n",
        "                                             padding='max_length',\n",
        "                                             return_tensors='tf')\n",
        "  \n",
        "  bert_predict = bert_load_model(input_text_tokenized)\n",
        "  bert_output = tf.nn.softmax(bert_predict[0], axis=-1)\n",
        "\n",
        "  sms_labels = ['Normal','Fraud','Promo']\n",
        "  \n",
        "  label = tf.argmax(bert_output, axis=1)\n",
        "  label = label.numpy()\n",
        "\n",
        "  return sms_labels[label[0]]\n",
        "\n",
        "iface = gr.Interface(fn=spam_prediction, inputs=\"text\", outputs=\"text\")\n",
        "iface.launch()"
      ],
      "metadata": {
        "id": "eTb4M-GA3enL"
      },
      "execution_count": null,
      "outputs": []
    },
    {
      "cell_type": "markdown",
      "source": [
        "# Student Activity\n",
        "Buat resume perbandingan metode tradisional ML, LSTM, dan fine-tuning BERT pada data klasifikasi SMS Spam.\n",
        "- Gunakan metrics akurasi untuk melihat performa metode diatas;\n",
        "- Analisa hasil performa setiap metode;\n",
        "- metode mana yang lebih baik, dari segi komputasi dan performa? Jelaskan mengapa?\n",
        "\n",
        "\n",
        "Kumpulkan dalam format PDF. Kumpulkan paling lambat tanggal 19 April 2022 23.59 WIB.<br>\n",
        "Link pengumpulkan tugas: https://s.id/tugas-nlp-ofa\n",
        "\n"
      ],
      "metadata": {
        "id": "vbV_B2OJyKWl"
      }
    }
  ]
}